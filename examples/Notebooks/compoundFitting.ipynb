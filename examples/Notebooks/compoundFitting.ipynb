{
 "cells": [
  {
   "cell_type": "markdown",
   "id": "3e525d24-ae11-4857-97f6-a6ffe7c8fc7e",
   "metadata": {},
   "source": [
    "# Tutorial for resonance fitting using `pleiades`\n",
    "Tsviki Y. Hirsh and Alex Long\n",
    "\n",
    "July 9th 2024"
   ]
  },
  {
   "cell_type": "code",
   "execution_count": 1,
   "id": "03408b39-275b-495a-a7c1-11090dd60680",
   "metadata": {},
   "outputs": [],
   "source": [
    "import pandas\n",
    "from pleiades import sammyUtils, sammyPlotter"
   ]
  },
  {
   "cell_type": "markdown",
   "id": "e6c89007-00a5-4b6e-8631-9068224f5c0a",
   "metadata": {},
   "source": [
    "### Grab some data from EXFOR\n",
    "\n",
    "We will be using data from this (link)[https://www-nds.iaea.org/index-meeting-crp/CM-RF-2013/] that provides several datasets for transmission spectra that were measured at leading TOF facilities.\n",
    "\n",
    "For the purpose of this demonstration we will be using the dataset of natural Eu measurement that were done at RPI,\n",
    "\n",
    "- sample thickness: 4.5E-04 atoms/barn\n",
    "- flight path length: 14.96 m\n"
   ]
  },
  {
   "cell_type": "code",
   "execution_count": null,
   "id": "0cae1a40-50ed-44a2-8841-290aa6309951",
   "metadata": {},
   "outputs": [],
   "source": []
  }
 ],
 "metadata": {
  "kernelspec": {
   "display_name": "Python 3 (ipykernel)",
   "language": "python",
   "name": "python3"
  },
  "language_info": {
   "codemirror_mode": {
    "name": "ipython",
    "version": 3
   },
   "file_extension": ".py",
   "mimetype": "text/x-python",
   "name": "python",
   "nbconvert_exporter": "python",
   "pygments_lexer": "ipython3",
   "version": "3.10.14"
  }
 },
 "nbformat": 4,
 "nbformat_minor": 5
}
